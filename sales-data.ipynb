{
 "cells": [
  {
   "cell_type": "code",
   "execution_count": 6,
   "id": "6585d8f0-b77f-46cc-84c8-52753ab4b2a9",
   "metadata": {},
   "outputs": [
    {
     "data": {
      "text/html": [
       "<div>\n",
       "<style scoped>\n",
       "    .dataframe tbody tr th:only-of-type {\n",
       "        vertical-align: middle;\n",
       "    }\n",
       "\n",
       "    .dataframe tbody tr th {\n",
       "        vertical-align: top;\n",
       "    }\n",
       "\n",
       "    .dataframe thead th {\n",
       "        text-align: right;\n",
       "    }\n",
       "</style>\n",
       "<table border=\"1\" class=\"dataframe\">\n",
       "  <thead>\n",
       "    <tr style=\"text-align: right;\">\n",
       "      <th></th>\n",
       "      <th>age</th>\n",
       "      <th>first_name</th>\n",
       "      <th>gender</th>\n",
       "      <th>id</th>\n",
       "      <th>last_name</th>\n",
       "    </tr>\n",
       "  </thead>\n",
       "  <tbody>\n",
       "    <tr>\n",
       "      <th>0</th>\n",
       "      <td>48.0</td>\n",
       "      <td>Nicholas</td>\n",
       "      <td>M</td>\n",
       "      <td>0</td>\n",
       "      <td>Flores</td>\n",
       "    </tr>\n",
       "    <tr>\n",
       "      <th>1</th>\n",
       "      <td>NaN</td>\n",
       "      <td>Jeffery</td>\n",
       "      <td>M</td>\n",
       "      <td>1</td>\n",
       "      <td>Rowe</td>\n",
       "    </tr>\n",
       "    <tr>\n",
       "      <th>2</th>\n",
       "      <td>57.0</td>\n",
       "      <td>Alexis</td>\n",
       "      <td>F</td>\n",
       "      <td>2</td>\n",
       "      <td>Benton</td>\n",
       "    </tr>\n",
       "    <tr>\n",
       "      <th>3</th>\n",
       "      <td>73.0</td>\n",
       "      <td>Amy</td>\n",
       "      <td>F</td>\n",
       "      <td>3</td>\n",
       "      <td>Johnson</td>\n",
       "    </tr>\n",
       "    <tr>\n",
       "      <th>4</th>\n",
       "      <td>20.0</td>\n",
       "      <td>David</td>\n",
       "      <td>M</td>\n",
       "      <td>4</td>\n",
       "      <td>Moore</td>\n",
       "    </tr>\n",
       "  </tbody>\n",
       "</table>\n",
       "</div>"
      ],
      "text/plain": [
       "    age first_name gender  id last_name\n",
       "0  48.0   Nicholas      M   0    Flores\n",
       "1   NaN    Jeffery      M   1      Rowe\n",
       "2  57.0     Alexis      F   2    Benton\n",
       "3  73.0        Amy      F   3   Johnson\n",
       "4  20.0      David      M   4     Moore"
      ]
     },
     "execution_count": 6,
     "metadata": {},
     "output_type": "execute_result"
    }
   ],
   "source": [
    "import os\n",
    "os.getcwd()\n",
    "os.chdir('/Users/hughainsleyperez/anaconda_projects/cd3e958c-8b0c-44c7-8e8f-c609f1b57112')\n",
    "import pandas as pd\n",
    "import numpy as np\n",
    "import matplotlib.pyplot as plt\n",
    "\n",
    "invoices = pd.read_csv('fct_invoice.csv')\n",
    "customers = pd.read_json('dim_customer.json')\n",
    "\n",
    "invoices.head()\n",
    "customers.head()\n"
   ]
  },
  {
   "cell_type": "code",
   "execution_count": 13,
   "id": "274ec201-6667-465e-a449-50a4ebfcca84",
   "metadata": {},
   "outputs": [
    {
     "data": {
      "text/plain": [
       "Index(['invoice_no', 'customer_id', 'category', 'quantity', 'price',\n",
       "       'payment_method', 'invoice_date', 'shopping_mall'],\n",
       "      dtype='object')"
      ]
     },
     "execution_count": 13,
     "metadata": {},
     "output_type": "execute_result"
    }
   ],
   "source": [
    "invoices.columns"
   ]
  },
  {
   "cell_type": "code",
   "execution_count": 14,
   "id": "aafdf32d-0422-4943-b54d-712a66c4d59e",
   "metadata": {},
   "outputs": [
    {
     "data": {
      "text/plain": [
       "Index(['age', 'first_name', 'gender', 'id', 'last_name'], dtype='object')"
      ]
     },
     "execution_count": 14,
     "metadata": {},
     "output_type": "execute_result"
    }
   ],
   "source": [
    "customers.columns"
   ]
  },
  {
   "cell_type": "code",
   "execution_count": 17,
   "id": "24a4ce5f-f431-4ae0-9ef5-fd759be700ce",
   "metadata": {},
   "outputs": [
    {
     "data": {
      "text/plain": [
       "5191"
      ]
     },
     "execution_count": 17,
     "metadata": {},
     "output_type": "execute_result"
    }
   ],
   "source": [
    "#Easy Number 1\n",
    "\n",
    "customers['id'].nunique()"
   ]
  },
  {
   "cell_type": "code",
   "execution_count": 24,
   "id": "279f8a47-93dd-4ca7-9b50-ef4835d6c4cd",
   "metadata": {},
   "outputs": [
    {
     "data": {
      "text/plain": [
       "(['Clothing',\n",
       "  'Shoes',\n",
       "  'Books',\n",
       "  'Cosmetics',\n",
       "  'Food & Beverage',\n",
       "  'Toys',\n",
       "  'Technology',\n",
       "  'Souvenir'],\n",
       " 8)"
      ]
     },
     "execution_count": 24,
     "metadata": {},
     "output_type": "execute_result"
    }
   ],
   "source": [
    "#Easy Number 2\n",
    "\n",
    "categories = invoices['category'].unique().tolist()\n",
    "number = invoices['category'].nunique()\n",
    "\n",
    "categories, number"
   ]
  },
  {
   "cell_type": "code",
   "execution_count": 25,
   "id": "fc899b80-48a6-48be-a17d-7d9b7dc574a7",
   "metadata": {},
   "outputs": [
    {
     "data": {
      "text/plain": [
       "('Cash', 44447)"
      ]
     },
     "execution_count": 25,
     "metadata": {},
     "output_type": "execute_result"
    }
   ],
   "source": [
    "#Easy Number 3\n",
    "\n",
    "most_used_method = invoices['payment_method'].value_counts().idxmax()\n",
    "most_used_count = invoices['payment_method'].value_counts().max()\n",
    "\n",
    "most_used_method, most_used_count\n"
   ]
  },
  {
   "cell_type": "code",
   "execution_count": 26,
   "id": "ed1b94a7-8176-434a-b0d0-22c0c801e319",
   "metadata": {},
   "outputs": [
    {
     "data": {
      "text/plain": [
       "category\n",
       "Clothing      1.139968e+08\n",
       "Shoes         6.655345e+07\n",
       "Technology    5.786235e+07\n",
       "Name: sales, dtype: float64"
      ]
     },
     "execution_count": 26,
     "metadata": {},
     "output_type": "execute_result"
    }
   ],
   "source": [
    "#Medium Number 1\n",
    "\n",
    "invoices['sales'] = invoices['price'] * invoices['quantity']\n",
    "category_sales = invoices.groupby('category')['sales'].sum()\n",
    "top_categories = category_sales.sort_values(ascending=False).head(3)\n",
    "\n",
    "top_categories\n"
   ]
  },
  {
   "cell_type": "code",
   "execution_count": 27,
   "id": "f645d22f-88ce-489e-9562-c7db4a677b91",
   "metadata": {},
   "outputs": [
    {
     "data": {
      "text/plain": [
       "82039768.15"
      ]
     },
     "execution_count": 27,
     "metadata": {},
     "output_type": "execute_result"
    }
   ],
   "source": [
    "#Medium Number 2\n",
    "\n",
    "merged = invoices.merge(customers, left_on = 'customer_id', right_on = 'id')\n",
    "over_45 = merged[merged['age'] > 45]\n",
    "total_sales_over_45 = over_45['sales'].sum()\n",
    "\n",
    "total_sales_over_45\n"
   ]
  },
  {
   "cell_type": "code",
   "execution_count": 30,
   "id": "07c51bae-9ac4-435f-96e2-640818e3e937",
   "metadata": {},
   "outputs": [
    {
     "name": "stderr",
     "output_type": "stream",
     "text": [
      "/var/folders/_v/y7vrgnpj1cbf11whcycs4mj00000gn/T/ipykernel_2659/1023772761.py:5: FutureWarning: 'M' is deprecated and will be removed in a future version, please use 'ME' instead.\n",
      "  monthly_sales = invoices['sales'].resample('M').sum()\n"
     ]
    },
    {
     "data": {
      "image/png": "[encoded data removed]",
      "text/plain": [
       "<Figure size 1200x600 with 1 Axes>"
      ]
     },
     "metadata": {},
     "output_type": "display_data"
    }
   ],
   "source": [
    "#Medium Number 3\n",
    "\n",
    "invoices['invoice_date'] = pd.to_datetime(invoices['invoice_date'], dayfirst=True)\n",
    "invoices.set_index('invoice_date', inplace=True)\n",
    "monthly_sales = invoices['sales'].resample('M').sum()\n",
    "plt.figure(figsize=(12, 6))\n",
    "monthly_sales.plot(marker='o')\n",
    "plt.title('Monthly Sales Over Time')\n",
    "plt.xlabel('Date')\n",
    "plt.ylabel('Total Sales')\n",
    "plt.grid(True)\n",
    "plt.tight_layout()\n",
    "plt.show()"
   ]
  },
  {
   "cell_type": "code",
   "execution_count": null,
   "id": "bc296891-f61e-4e1a-9aa9-893dce0323df",
   "metadata": {},
   "outputs": [],
   "source": [
    "# Sales are generally stable and don't really dip. However, it does heavily go down after January 2023, which suggests the data ends there."
   ]
  },
  {
   "cell_type": "code",
   "execution_count": 31,
   "id": "9792e3ed-c5d9-4e49-9c11-c73b22276c08",
   "metadata": {},
   "outputs": [
    {
     "data": {
      "text/html": [
       "<div>\n",
       "<style scoped>\n",
       "    .dataframe tbody tr th:only-of-type {\n",
       "        vertical-align: middle;\n",
       "    }\n",
       "\n",
       "    .dataframe tbody tr th {\n",
       "        vertical-align: top;\n",
       "    }\n",
       "\n",
       "    .dataframe thead th {\n",
       "        text-align: right;\n",
       "    }\n",
       "</style>\n",
       "<table border=\"1\" class=\"dataframe\">\n",
       "  <thead>\n",
       "    <tr style=\"text-align: right;\">\n",
       "      <th>age_group</th>\n",
       "      <th>10-19</th>\n",
       "      <th>20-29</th>\n",
       "      <th>30-39</th>\n",
       "      <th>40-49</th>\n",
       "      <th>50-59</th>\n",
       "      <th>60-69</th>\n",
       "      <th>70-79</th>\n",
       "      <th>80-89</th>\n",
       "      <th>&lt;NA&gt;-&lt;NA&gt;</th>\n",
       "    </tr>\n",
       "    <tr>\n",
       "      <th>category</th>\n",
       "      <th></th>\n",
       "      <th></th>\n",
       "      <th></th>\n",
       "      <th></th>\n",
       "      <th></th>\n",
       "      <th></th>\n",
       "      <th></th>\n",
       "      <th></th>\n",
       "      <th></th>\n",
       "    </tr>\n",
       "  </thead>\n",
       "  <tbody>\n",
       "    <tr>\n",
       "      <th>Books</th>\n",
       "      <td>12801.75</td>\n",
       "      <td>79461.75</td>\n",
       "      <td>84143.10</td>\n",
       "      <td>87203.40</td>\n",
       "      <td>74962.20</td>\n",
       "      <td>80476.80</td>\n",
       "      <td>54827.85</td>\n",
       "      <td>26664.00</td>\n",
       "      <td>334012.05</td>\n",
       "    </tr>\n",
       "    <tr>\n",
       "      <th>Clothing</th>\n",
       "      <td>1927413.84</td>\n",
       "      <td>10250732.80</td>\n",
       "      <td>11354126.96</td>\n",
       "      <td>11215189.92</td>\n",
       "      <td>10321851.76</td>\n",
       "      <td>10660642.08</td>\n",
       "      <td>7769371.28</td>\n",
       "      <td>4493698.00</td>\n",
       "      <td>46003764.40</td>\n",
       "    </tr>\n",
       "    <tr>\n",
       "      <th>Cosmetics</th>\n",
       "      <td>109619.36</td>\n",
       "      <td>605915.32</td>\n",
       "      <td>723544.70</td>\n",
       "      <td>665034.96</td>\n",
       "      <td>587780.96</td>\n",
       "      <td>649990.76</td>\n",
       "      <td>419082.62</td>\n",
       "      <td>254531.60</td>\n",
       "      <td>2777362.62</td>\n",
       "    </tr>\n",
       "    <tr>\n",
       "      <th>Food &amp; Beverage</th>\n",
       "      <td>13582.31</td>\n",
       "      <td>73491.96</td>\n",
       "      <td>87246.86</td>\n",
       "      <td>89553.29</td>\n",
       "      <td>72425.04</td>\n",
       "      <td>80976.09</td>\n",
       "      <td>55050.98</td>\n",
       "      <td>31332.93</td>\n",
       "      <td>345875.59</td>\n",
       "    </tr>\n",
       "    <tr>\n",
       "      <th>Shoes</th>\n",
       "      <td>993281.35</td>\n",
       "      <td>5924878.24</td>\n",
       "      <td>7200839.66</td>\n",
       "      <td>7025590.02</td>\n",
       "      <td>5852857.84</td>\n",
       "      <td>5978893.54</td>\n",
       "      <td>4480269.05</td>\n",
       "      <td>2628744.60</td>\n",
       "      <td>26468097.17</td>\n",
       "    </tr>\n",
       "    <tr>\n",
       "      <th>Souvenir</th>\n",
       "      <td>12375.15</td>\n",
       "      <td>54943.32</td>\n",
       "      <td>64092.72</td>\n",
       "      <td>66391.80</td>\n",
       "      <td>54943.32</td>\n",
       "      <td>55025.43</td>\n",
       "      <td>38673.81</td>\n",
       "      <td>23718.06</td>\n",
       "      <td>265661.04</td>\n",
       "    </tr>\n",
       "    <tr>\n",
       "      <th>Technology</th>\n",
       "      <td>1129800.00</td>\n",
       "      <td>5261550.00</td>\n",
       "      <td>6159300.00</td>\n",
       "      <td>5954550.00</td>\n",
       "      <td>4435200.00</td>\n",
       "      <td>5471550.00</td>\n",
       "      <td>3638250.00</td>\n",
       "      <td>1946700.00</td>\n",
       "      <td>23865450.00</td>\n",
       "    </tr>\n",
       "    <tr>\n",
       "      <th>Toys</th>\n",
       "      <td>60426.24</td>\n",
       "      <td>385100.80</td>\n",
       "      <td>420582.40</td>\n",
       "      <td>390906.88</td>\n",
       "      <td>345067.52</td>\n",
       "      <td>363955.20</td>\n",
       "      <td>273244.16</td>\n",
       "      <td>153932.80</td>\n",
       "      <td>1587210.24</td>\n",
       "    </tr>\n",
       "  </tbody>\n",
       "</table>\n",
       "</div>"
      ],
      "text/plain": [
       "age_group             10-19        20-29        30-39        40-49  \\\n",
       "category                                                             \n",
       "Books              12801.75     79461.75     84143.10     87203.40   \n",
       "Clothing         1927413.84  10250732.80  11354126.96  11215189.92   \n",
       "Cosmetics         109619.36    605915.32    723544.70    665034.96   \n",
       "Food & Beverage    13582.31     73491.96     87246.86     89553.29   \n",
       "Shoes             993281.35   5924878.24   7200839.66   7025590.02   \n",
       "Souvenir           12375.15     54943.32     64092.72     66391.80   \n",
       "Technology       1129800.00   5261550.00   6159300.00   5954550.00   \n",
       "Toys               60426.24    385100.80    420582.40    390906.88   \n",
       "\n",
       "age_group              50-59        60-69       70-79       80-89    <NA>-<NA>  \n",
       "category                                                                        \n",
       "Books               74962.20     80476.80    54827.85    26664.00    334012.05  \n",
       "Clothing         10321851.76  10660642.08  7769371.28  4493698.00  46003764.40  \n",
       "Cosmetics          587780.96    649990.76   419082.62   254531.60   2777362.62  \n",
       "Food & Beverage     72425.04     80976.09    55050.98    31332.93    345875.59  \n",
       "Shoes             5852857.84   5978893.54  4480269.05  2628744.60  26468097.17  \n",
       "Souvenir            54943.32     55025.43    38673.81    23718.06    265661.04  \n",
       "Technology        4435200.00   5471550.00  3638250.00  1946700.00  23865450.00  \n",
       "Toys               345067.52    363955.20   273244.16   153932.80   1587210.24  "
      ]
     },
     "execution_count": 31,
     "metadata": {},
     "output_type": "execute_result"
    }
   ],
   "source": [
    "# Hard\n",
    "\n",
    "merged = invoices.merge(customers, left_on='customer_id', right_on='id')\n",
    "merged['age_group'] = (merged['age'] // 10 * 10).astype('Int64').astype(str) + '-' + ((merged['age'] // 10 * 10 + 9).astype('Int64')).astype(str)\n",
    "pivot = pd.pivot_table(\n",
    "    merged,\n",
    "    values='sales',\n",
    "    index='category',\n",
    "    columns='age_group',\n",
    "    aggfunc='sum',\n",
    "    fill_value=0\n",
    ")\n",
    "\n",
    "pivot\n"
   ]
  },
  {
   "cell_type": "code",
   "execution_count": null,
   "id": "daea2e5f-b50c-42f2-b1e3-922028ef7062",
   "metadata": {},
   "outputs": [],
   "source": []
  }
 ],
 "metadata": {
  "kernelspec": {
   "display_name": "Python [conda env:base] *",
   "language": "python",
   "name": "conda-base-py"
  },
  "language_info": {
   "codemirror_mode": {
    "name": "ipython",
    "version": 3
   },
   "file_extension": ".py",
   "mimetype": "text/x-python",
   "name": "python",
   "nbconvert_exporter": "python",
   "pygments_lexer": "ipython3",
   "version": "3.12.7"
  }
 },
 "nbformat": 4,
 "nbformat_minor": 5
}
