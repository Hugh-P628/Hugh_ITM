{
 "cells": [
  {
   "cell_type": "code",
   "execution_count": 2,
   "id": "ae7f4a1e-2f99-4c31-8f72-453bfa00d9d0",
   "metadata": {},
   "outputs": [
    {
     "name": "stdout",
     "output_type": "stream",
     "text": [
      "Number of lines: 99968\n",
      "Number of words: 795227\n",
      "Number of 'apostle': 47\n",
      "Most common word: the\n"
     ]
    }
   ],
   "source": [
    "import urllib.request\n",
    "import re\n",
    "from collections import Counter\n",
    "url = \"https://www.gutenberg.org/cache/epub/10/pg10.txt\"\n",
    "response = urllib.request.urlopen(url)\n",
    "pg10_bytes = response.read()\n",
    "pg10 = pg10_bytes.decode(\"utf-8\")\n",
    "lines = pg10.splitlines()\n",
    "num_lines = len(lines)\n",
    "words = re.findall(r\"[a-zA-Z]+\", pg10)\n",
    "num_words = len(words)\n",
    "apostle_count = sum(1 for word in words if word.lower() == \"apostle\")\n",
    "lower_words = [word.lower() for word in words]\n",
    "word_counts = Counter(lower_words)\n",
    "most_common_word = word_counts.most_common(1)[0][0]\n",
    "\n",
    "print(\"Number of lines:\", num_lines)                     # Question 1\n",
    "print(\"Number of words:\", num_words)                     # Question 2\n",
    "print(\"Number of 'apostle':\", apostle_count)             # Question 3\n",
    "print(\"Most common word:\", most_common_word)             # Question 4"
   ]
  }
 ],
 "metadata": {
  "kernelspec": {
   "display_name": "Python [conda env:base] *",
   "language": "python",
   "name": "conda-base-py"
  },
  "language_info": {
   "codemirror_mode": {
    "name": "ipython",
    "version": 3
   },
   "file_extension": ".py",
   "mimetype": "text/x-python",
   "name": "python",
   "nbconvert_exporter": "python",
   "pygments_lexer": "ipython3",
   "version": "3.12.7"
  }
 },
 "nbformat": 4,
 "nbformat_minor": 5
}
